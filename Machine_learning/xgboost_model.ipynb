{
 "metadata": {
  "language_info": {
   "codemirror_mode": {
    "name": "ipython",
    "version": 3
   },
   "file_extension": ".py",
   "mimetype": "text/x-python",
   "name": "python",
   "nbconvert_exporter": "python",
   "pygments_lexer": "ipython3",
   "version": "3.9.4"
  },
  "orig_nbformat": 2,
  "kernelspec": {
   "name": "python394jvsc74a57bd0553fde94cf21fea3c15f46ca3b92f17d4d8765a9f325c0781d136ffdb5e73663",
   "display_name": "Python 3.9.4 64-bit"
  },
  "metadata": {
   "interpreter": {
    "hash": "553fde94cf21fea3c15f46ca3b92f17d4d8765a9f325c0781d136ffdb5e73663"
   }
  }
 },
 "nbformat": 4,
 "nbformat_minor": 2,
 "cells": [
  {
   "cell_type": "code",
   "execution_count": 3,
   "metadata": {},
   "outputs": [],
   "source": [
    "import numpy as np\n",
    "import pandas as pd\n",
    "import xgboost as xgb\n",
    "import gc\n",
    "import matplotlib.pyplot as plt\n",
    "\n",
    "import sys\n",
    "sys.path.append( '../src')\n",
    "\n",
    "from funcs import *"
   ]
  },
  {
   "cell_type": "code",
   "execution_count": null,
   "metadata": {},
   "outputs": [],
   "source": [
    "prop_2016 = pd.read_csv('../Data/01_raw/properties_2016.csv', low_memory=False)\n",
    "sample = pd.read_csv('../Data/01_raw/sample_submission.csv', low_memory=False)\n",
    "train_2016 = pd.read_csv('../Data/01_raw/train_2016.csv', low_memory=False)\n",
    "pd.set_option('display.max_columns', None)"
   ]
  },
  {
   "source": [
    "## Machine Learning Model"
   ],
   "cell_type": "markdown",
   "metadata": {}
  },
  {
   "cell_type": "code",
   "execution_count": 4,
   "metadata": {},
   "outputs": [
    {
     "output_type": "error",
     "ename": "NameError",
     "evalue": "name 'df_ml' is not defined",
     "traceback": [
      "\u001b[1;31m---------------------------------------------------------------------------\u001b[0m",
      "\u001b[1;31mNameError\u001b[0m                                 Traceback (most recent call last)",
      "\u001b[1;32m<ipython-input-4-7c53588d8c81>\u001b[0m in \u001b[0;36m<module>\u001b[1;34m\u001b[0m\n\u001b[1;32m----> 1\u001b[1;33m \u001b[0mx_train\u001b[0m \u001b[1;33m=\u001b[0m \u001b[0mdf_ml\u001b[0m\u001b[1;33m.\u001b[0m\u001b[0mdrop\u001b[0m\u001b[1;33m(\u001b[0m\u001b[1;33m[\u001b[0m\u001b[1;34m'parcelid'\u001b[0m\u001b[1;33m,\u001b[0m \u001b[1;34m'logerror'\u001b[0m\u001b[1;33m]\u001b[0m\u001b[1;33m,\u001b[0m \u001b[0maxis\u001b[0m\u001b[1;33m=\u001b[0m\u001b[1;36m1\u001b[0m\u001b[1;33m)\u001b[0m\u001b[1;33m\u001b[0m\u001b[1;33m\u001b[0m\u001b[0m\n\u001b[0m\u001b[0;32m      2\u001b[0m \u001b[0my_train\u001b[0m \u001b[1;33m=\u001b[0m \u001b[0mdf_ml\u001b[0m\u001b[1;33m[\u001b[0m\u001b[1;34m'logerror'\u001b[0m\u001b[1;33m]\u001b[0m\u001b[1;33m.\u001b[0m\u001b[0mvalues\u001b[0m\u001b[1;33m\u001b[0m\u001b[1;33m\u001b[0m\u001b[0m\n",
      "\u001b[1;31mNameError\u001b[0m: name 'df_ml' is not defined"
     ]
    }
   ],
   "source": [
    "x_train = df_ml.drop(['parcelid', 'logerror'], axis=1)\n",
    "y_train = df_ml['logerror'].values"
   ]
  },
  {
   "cell_type": "code",
   "execution_count": 6,
   "metadata": {},
   "outputs": [
    {
     "output_type": "error",
     "ename": "NameError",
     "evalue": "name 'x_train' is not defined",
     "traceback": [
      "\u001b[1;31m---------------------------------------------------------------------------\u001b[0m",
      "\u001b[1;31mNameError\u001b[0m                                 Traceback (most recent call last)",
      "\u001b[1;32m<ipython-input-6-6b6de3d49857>\u001b[0m in \u001b[0;36m<module>\u001b[1;34m\u001b[0m\n\u001b[1;32m----> 1\u001b[1;33m \u001b[0mtrain_columns\u001b[0m \u001b[1;33m=\u001b[0m \u001b[0mx_train\u001b[0m\u001b[1;33m.\u001b[0m\u001b[0mcolumns\u001b[0m\u001b[1;33m\u001b[0m\u001b[1;33m\u001b[0m\u001b[0m\n\u001b[0m",
      "\u001b[1;31mNameError\u001b[0m: name 'x_train' is not defined"
     ]
    }
   ],
   "source": [
    "train_columns = x_train.columns"
   ]
  },
  {
   "cell_type": "code",
   "execution_count": 14,
   "metadata": {},
   "outputs": [],
   "source": [
    "# division du dataset entre sets de validation, d'entraînement et de test\n",
    "split = 80000\n",
    "x_train, y_train, x_valid, y_valid = x_train[:split], y_train[:split], x_train[split:], y_train[split:]"
   ]
  },
  {
   "cell_type": "code",
   "execution_count": 15,
   "metadata": {},
   "outputs": [
    {
     "output_type": "stream",
     "name": "stdout",
     "text": [
      "Building DMatrix...\n"
     ]
    }
   ],
   "source": [
    "print('Building DMatrix...')\n",
    "\n",
    "d_train = xgb.DMatrix(x_train, label=y_train)\n",
    "d_valid = xgb.DMatrix(x_valid, label=y_valid)"
   ]
  },
  {
   "cell_type": "code",
   "execution_count": 16,
   "metadata": {},
   "outputs": [
    {
     "output_type": "execute_result",
     "data": {
      "text/plain": [
       "10704"
      ]
     },
     "metadata": {},
     "execution_count": 16
    }
   ],
   "source": [
    "del x_train, x_valid; gc.collect()"
   ]
  },
  {
   "cell_type": "code",
   "execution_count": 17,
   "metadata": {},
   "outputs": [
    {
     "output_type": "stream",
     "name": "stdout",
     "text": [
      "[18:03:45] WARNING: C:/Users/Administrator/workspace/xgboost-win64_release_1.3.0/src/objective/regression_obj.cu:170: reg:linear is now deprecated in favor of reg:squarederror.\n",
      "[18:03:45] WARNING: C:/Users/Administrator/workspace/xgboost-win64_release_1.3.0/src/learner.cc:541: \n",
      "Parameters: { silent } might not be used.\n",
      "\n",
      "  This may not be accurate due to some parameters are only used in language bindings but\n",
      "  passed down to XGBoost core.  Or some parameters are not used but slip through this\n",
      "  verification. Please open an issue if you find above cases.\n",
      "\n",
      "\n",
      "[0]\ttrain-mae:0.48807\tvalid-mae:0.48109\n",
      "[10]\ttrain-mae:0.40226\tvalid-mae:0.39514\n",
      "[20]\ttrain-mae:0.33277\tvalid-mae:0.32555\n",
      "[30]\ttrain-mae:0.27665\tvalid-mae:0.26951\n",
      "[40]\ttrain-mae:0.23150\tvalid-mae:0.22453\n",
      "[50]\ttrain-mae:0.19528\tvalid-mae:0.18856\n",
      "[60]\ttrain-mae:0.16639\tvalid-mae:0.15992\n",
      "[70]\ttrain-mae:0.14344\tvalid-mae:0.13724\n",
      "[80]\ttrain-mae:0.12536\tvalid-mae:0.11944\n",
      "[90]\ttrain-mae:0.11123\tvalid-mae:0.10557\n",
      "[100]\ttrain-mae:0.10031\tvalid-mae:0.09490\n",
      "[110]\ttrain-mae:0.09197\tvalid-mae:0.08684\n",
      "[120]\ttrain-mae:0.08568\tvalid-mae:0.08090\n",
      "[130]\ttrain-mae:0.08100\tvalid-mae:0.07658\n",
      "[140]\ttrain-mae:0.07754\tvalid-mae:0.07349\n",
      "[150]\ttrain-mae:0.07502\tvalid-mae:0.07132\n",
      "[160]\ttrain-mae:0.07320\tvalid-mae:0.06979\n",
      "[170]\ttrain-mae:0.07186\tvalid-mae:0.06874\n",
      "[180]\ttrain-mae:0.07090\tvalid-mae:0.06802\n",
      "[190]\ttrain-mae:0.07019\tvalid-mae:0.06753\n",
      "[200]\ttrain-mae:0.06968\tvalid-mae:0.06719\n",
      "[210]\ttrain-mae:0.06930\tvalid-mae:0.06697\n",
      "[220]\ttrain-mae:0.06902\tvalid-mae:0.06682\n",
      "[230]\ttrain-mae:0.06881\tvalid-mae:0.06673\n",
      "[240]\ttrain-mae:0.06865\tvalid-mae:0.06667\n",
      "[250]\ttrain-mae:0.06852\tvalid-mae:0.06664\n",
      "[260]\ttrain-mae:0.06842\tvalid-mae:0.06661\n",
      "[270]\ttrain-mae:0.06835\tvalid-mae:0.06660\n",
      "[280]\ttrain-mae:0.06829\tvalid-mae:0.06660\n",
      "[290]\ttrain-mae:0.06824\tvalid-mae:0.06659\n",
      "[300]\ttrain-mae:0.06819\tvalid-mae:0.06659\n",
      "[310]\ttrain-mae:0.06815\tvalid-mae:0.06660\n",
      "[320]\ttrain-mae:0.06813\tvalid-mae:0.06660\n",
      "[330]\ttrain-mae:0.06810\tvalid-mae:0.06661\n",
      "[340]\ttrain-mae:0.06808\tvalid-mae:0.06662\n",
      "[350]\ttrain-mae:0.06806\tvalid-mae:0.06663\n",
      "[360]\ttrain-mae:0.06804\tvalid-mae:0.06663\n",
      "[370]\ttrain-mae:0.06802\tvalid-mae:0.06664\n",
      "[380]\ttrain-mae:0.06800\tvalid-mae:0.06664\n",
      "[390]\ttrain-mae:0.06799\tvalid-mae:0.06666\n",
      "[394]\ttrain-mae:0.06799\tvalid-mae:0.06666\n"
     ]
    }
   ],
   "source": [
    "# Training\n",
    "\n",
    "params = {}\n",
    "params['eta'] = 0.02\n",
    "params['objective'] = 'reg:linear'\n",
    "params['eval_metric'] = 'mae'\n",
    "params['max_depth'] = 4\n",
    "params['silent'] = 1\n",
    "\n",
    "watchlist = [(d_train, 'train'), (d_valid, 'valid')]\n",
    "clf = xgb.train(params, d_train, 10000, watchlist, early_stopping_rounds=100, verbose_eval=10)"
   ]
  },
  {
   "cell_type": "code",
   "execution_count": 18,
   "metadata": {},
   "outputs": [],
   "source": [
    "del d_train, d_valid"
   ]
  },
  {
   "cell_type": "code",
   "execution_count": 19,
   "metadata": {},
   "outputs": [],
   "source": [
    "sample = sample.rename({'ParcelId' : 'parcelid'}, axis = 1)\n",
    "df_test = sample.merge(prop_2016, on='parcelid', how='left')"
   ]
  },
  {
   "cell_type": "code",
   "execution_count": 20,
   "metadata": {},
   "outputs": [
    {
     "output_type": "execute_result",
     "data": {
      "text/plain": [
       "97"
      ]
     },
     "metadata": {},
     "execution_count": 20
    }
   ],
   "source": [
    "del prop_2016; gc.collect()"
   ]
  },
  {
   "cell_type": "code",
   "execution_count": 21,
   "metadata": {},
   "outputs": [
    {
     "output_type": "stream",
     "name": "stdout",
     "text": [
      "Memory usage of properties dataframe is : 1480.4008865356445  MB\n",
      "******************************\n",
      "Column:  parcelid\n",
      "dtype before:  int64\n",
      "dtype after:  uint32\n",
      "******************************\n",
      "******************************\n",
      "Column:  201610\n",
      "dtype before:  int64\n",
      "dtype after:  uint8\n",
      "******************************\n",
      "******************************\n",
      "Column:  201611\n",
      "dtype before:  int64\n",
      "dtype after:  uint8\n",
      "******************************\n",
      "******************************\n",
      "Column:  201612\n",
      "dtype before:  int64\n",
      "dtype after:  uint8\n",
      "******************************\n",
      "******************************\n",
      "Column:  201710\n",
      "dtype before:  int64\n",
      "dtype after:  uint8\n",
      "******************************\n",
      "******************************\n",
      "Column:  201711\n",
      "dtype before:  int64\n",
      "dtype after:  uint8\n",
      "******************************\n",
      "******************************\n",
      "Column:  201712\n",
      "dtype before:  int64\n",
      "dtype after:  uint8\n",
      "******************************\n",
      "******************************\n",
      "Column:  airconditioningtypeid\n",
      "dtype before:  float64\n",
      "dtype after:  uint8\n",
      "******************************\n",
      "******************************\n",
      "Column:  architecturalstyletypeid\n",
      "dtype before:  float64\n",
      "dtype after:  uint8\n",
      "******************************\n",
      "******************************\n",
      "Column:  basementsqft\n",
      "dtype before:  float64\n",
      "dtype after:  uint16\n",
      "******************************\n",
      "******************************\n",
      "Column:  bathroomcnt\n",
      "dtype before:  float64\n",
      "dtype after:  float32\n",
      "******************************\n",
      "******************************\n",
      "Column:  bedroomcnt\n",
      "dtype before:  float64\n",
      "dtype after:  uint8\n",
      "******************************\n",
      "******************************\n",
      "Column:  buildingclasstypeid\n",
      "dtype before:  float64\n",
      "dtype after:  uint8\n",
      "******************************\n",
      "******************************\n",
      "Column:  buildingqualitytypeid\n",
      "dtype before:  float64\n",
      "dtype after:  uint8\n",
      "******************************\n",
      "******************************\n",
      "Column:  calculatedbathnbr\n",
      "dtype before:  float64\n",
      "dtype after:  float32\n",
      "******************************\n",
      "******************************\n",
      "Column:  decktypeid\n",
      "dtype before:  float64\n",
      "dtype after:  uint8\n",
      "******************************\n",
      "******************************\n",
      "Column:  finishedfloor1squarefeet\n",
      "dtype before:  float64\n",
      "dtype after:  uint16\n",
      "******************************\n",
      "******************************\n",
      "Column:  calculatedfinishedsquarefeet\n",
      "dtype before:  float64\n",
      "dtype after:  uint32\n",
      "******************************\n",
      "******************************\n",
      "Column:  finishedsquarefeet12\n",
      "dtype before:  float64\n",
      "dtype after:  uint32\n",
      "******************************\n",
      "******************************\n",
      "Column:  finishedsquarefeet13\n",
      "dtype before:  float64\n",
      "dtype after:  uint16\n",
      "******************************\n",
      "******************************\n",
      "Column:  finishedsquarefeet15\n",
      "dtype before:  float64\n",
      "dtype after:  uint32\n",
      "******************************\n",
      "******************************\n",
      "Column:  finishedsquarefeet50\n",
      "dtype before:  float64\n",
      "dtype after:  uint16\n",
      "******************************\n",
      "******************************\n",
      "Column:  finishedsquarefeet6\n",
      "dtype before:  float64\n",
      "dtype after:  uint32\n",
      "******************************\n",
      "******************************\n",
      "Column:  fips\n",
      "dtype before:  float64\n",
      "dtype after:  uint16\n",
      "******************************\n",
      "******************************\n",
      "Column:  fireplacecnt\n",
      "dtype before:  float64\n",
      "dtype after:  uint8\n",
      "******************************\n",
      "******************************\n",
      "Column:  fullbathcnt\n",
      "dtype before:  float64\n",
      "dtype after:  uint8\n",
      "******************************\n",
      "******************************\n",
      "Column:  garagecarcnt\n",
      "dtype before:  float64\n",
      "dtype after:  uint8\n",
      "******************************\n",
      "******************************\n",
      "Column:  garagetotalsqft\n",
      "dtype before:  float64\n",
      "dtype after:  uint16\n",
      "******************************\n",
      "******************************\n",
      "Column:  heatingorsystemtypeid\n",
      "dtype before:  float64\n",
      "dtype after:  uint8\n",
      "******************************\n",
      "******************************\n",
      "Column:  latitude\n",
      "dtype before:  float64\n",
      "dtype after:  uint32\n",
      "******************************\n",
      "******************************\n",
      "Column:  longitude\n",
      "dtype before:  float64\n",
      "dtype after:  int32\n",
      "******************************\n",
      "******************************\n",
      "Column:  lotsizesquarefeet\n",
      "dtype before:  float64\n",
      "dtype after:  float32\n",
      "******************************\n",
      "******************************\n",
      "Column:  poolcnt\n",
      "dtype before:  float64\n",
      "dtype after:  uint8\n",
      "******************************\n",
      "******************************\n",
      "Column:  poolsizesum\n",
      "dtype before:  float64\n",
      "dtype after:  uint16\n",
      "******************************\n",
      "******************************\n",
      "Column:  pooltypeid10\n",
      "dtype before:  float64\n",
      "dtype after:  uint8\n",
      "******************************\n",
      "******************************\n",
      "Column:  pooltypeid2\n",
      "dtype before:  float64\n",
      "dtype after:  uint8\n",
      "******************************\n",
      "******************************\n",
      "Column:  pooltypeid7\n",
      "dtype before:  float64\n",
      "dtype after:  uint8\n",
      "******************************\n",
      "******************************\n",
      "Column:  propertylandusetypeid\n",
      "dtype before:  float64\n",
      "dtype after:  uint16\n",
      "******************************\n",
      "******************************\n",
      "Column:  rawcensustractandblock\n",
      "dtype before:  float64\n",
      "dtype after:  float32\n",
      "******************************\n",
      "******************************\n",
      "Column:  regionidcity\n",
      "dtype before:  float64\n",
      "dtype after:  uint32\n",
      "******************************\n",
      "******************************\n",
      "Column:  regionidcounty\n",
      "dtype before:  float64\n",
      "dtype after:  uint16\n",
      "******************************\n",
      "******************************\n",
      "Column:  regionidneighborhood\n",
      "dtype before:  float64\n",
      "dtype after:  uint32\n",
      "******************************\n",
      "******************************\n",
      "Column:  regionidzip\n",
      "dtype before:  float64\n",
      "dtype after:  uint32\n",
      "******************************\n",
      "******************************\n",
      "Column:  roomcnt\n",
      "dtype before:  float64\n",
      "dtype after:  uint8\n",
      "******************************\n",
      "******************************\n",
      "Column:  storytypeid\n",
      "dtype before:  float64\n",
      "dtype after:  uint8\n",
      "******************************\n",
      "******************************\n",
      "Column:  threequarterbathnbr\n",
      "dtype before:  float64\n",
      "dtype after:  uint8\n",
      "******************************\n",
      "******************************\n",
      "Column:  typeconstructiontypeid\n",
      "dtype before:  float64\n",
      "dtype after:  uint8\n",
      "******************************\n",
      "******************************\n",
      "Column:  unitcnt\n",
      "dtype before:  float64\n",
      "dtype after:  uint16\n",
      "******************************\n",
      "******************************\n",
      "Column:  yardbuildingsqft17\n",
      "dtype before:  float64\n",
      "dtype after:  uint16\n",
      "******************************\n",
      "******************************\n",
      "Column:  yardbuildingsqft26\n",
      "dtype before:  float64\n",
      "dtype after:  uint16\n",
      "******************************\n",
      "******************************\n",
      "Column:  yearbuilt\n",
      "dtype before:  float64\n",
      "dtype after:  uint16\n",
      "******************************\n",
      "******************************\n",
      "Column:  numberofstories\n",
      "dtype before:  float64\n",
      "dtype after:  uint8\n",
      "******************************\n",
      "******************************\n",
      "Column:  structuretaxvaluedollarcnt\n",
      "dtype before:  float64\n",
      "dtype after:  uint32\n",
      "******************************\n",
      "******************************\n",
      "Column:  taxvaluedollarcnt\n",
      "dtype before:  float64\n",
      "dtype after:  uint32\n",
      "******************************\n",
      "******************************\n",
      "Column:  assessmentyear\n",
      "dtype before:  float64\n",
      "dtype after:  uint16\n",
      "******************************\n",
      "******************************\n",
      "Column:  landtaxvaluedollarcnt\n",
      "dtype before:  float64\n",
      "dtype after:  uint32\n",
      "******************************\n",
      "******************************\n",
      "Column:  taxamount\n",
      "dtype before:  float64\n",
      "dtype after:  float32\n",
      "******************************\n",
      "******************************\n",
      "Column:  taxdelinquencyyear\n",
      "dtype before:  float64\n",
      "dtype after:  uint8\n",
      "******************************\n",
      "******************************\n",
      "Column:  censustractandblock\n",
      "dtype before:  float64\n",
      "dtype after:  int64\n",
      "******************************\n",
      "___MEMORY USAGE AFTER COMPLETION:___\n",
      "Memory usage is:  518.1403102874756  MB\n",
      "This is  35.0 % of the initial size\n",
      "_________________\n",
      "\n",
      "Warning: the following columns have missing values filled with 'df['column_name'].min() -1': \n",
      "_________________\n",
      "\n",
      "['airconditioningtypeid', 'architecturalstyletypeid', 'basementsqft', 'bathroomcnt', 'bedroomcnt', 'buildingclasstypeid', 'buildingqualitytypeid', 'calculatedbathnbr', 'decktypeid', 'finishedfloor1squarefeet', 'calculatedfinishedsquarefeet', 'finishedsquarefeet12', 'finishedsquarefeet13', 'finishedsquarefeet15', 'finishedsquarefeet50', 'finishedsquarefeet6', 'fips', 'fireplacecnt', 'fullbathcnt', 'garagecarcnt', 'garagetotalsqft', 'heatingorsystemtypeid', 'latitude', 'longitude', 'lotsizesquarefeet', 'poolcnt', 'poolsizesum', 'pooltypeid10', 'pooltypeid2', 'pooltypeid7', 'propertylandusetypeid', 'rawcensustractandblock', 'regionidcity', 'regionidcounty', 'regionidneighborhood', 'regionidzip', 'roomcnt', 'storytypeid', 'threequarterbathnbr', 'typeconstructiontypeid', 'unitcnt', 'yardbuildingsqft17', 'yardbuildingsqft26', 'yearbuilt', 'numberofstories', 'structuretaxvaluedollarcnt', 'taxvaluedollarcnt', 'assessmentyear', 'landtaxvaluedollarcnt', 'taxamount', 'taxdelinquencyyear', 'censustractandblock']\n"
     ]
    }
   ],
   "source": [
    "props, NAlist = reduce_mem_usage(df_test)\n",
    "print(\"_________________\")\n",
    "print(\"\")\n",
    "print(\"Warning: the following columns have missing values filled with 'df['column_name'].min() -1': \")\n",
    "print(\"_________________\")\n",
    "print(\"\")\n",
    "print(NAlist)"
   ]
  },
  {
   "cell_type": "code",
   "execution_count": 22,
   "metadata": {},
   "outputs": [],
   "source": [
    "x_test = df_test[train_columns]"
   ]
  },
  {
   "cell_type": "code",
   "execution_count": 23,
   "metadata": {},
   "outputs": [],
   "source": [
    "for c in x_test.dtypes[x_test.dtypes == object].index.values:\n",
    "    x_test[c] = (x_test[c] == True)"
   ]
  },
  {
   "cell_type": "code",
   "execution_count": 24,
   "metadata": {},
   "outputs": [
    {
     "output_type": "execute_result",
     "data": {
      "text/plain": [
       "45"
      ]
     },
     "metadata": {},
     "execution_count": 24
    }
   ],
   "source": [
    "del df_test, sample; gc.collect()"
   ]
  },
  {
   "cell_type": "code",
   "execution_count": 25,
   "metadata": {},
   "outputs": [],
   "source": [
    "d_test = xgb.DMatrix(x_test)"
   ]
  },
  {
   "cell_type": "code",
   "execution_count": 26,
   "metadata": {},
   "outputs": [
    {
     "output_type": "execute_result",
     "data": {
      "text/plain": [
       "39"
      ]
     },
     "metadata": {},
     "execution_count": 26
    }
   ],
   "source": [
    "del x_test; gc.collect()"
   ]
  },
  {
   "cell_type": "code",
   "execution_count": 27,
   "metadata": {},
   "outputs": [],
   "source": [
    "p_test = clf.predict(d_test)"
   ]
  },
  {
   "cell_type": "code",
   "execution_count": 28,
   "metadata": {},
   "outputs": [
    {
     "output_type": "execute_result",
     "data": {
      "text/plain": [
       "30"
      ]
     },
     "metadata": {},
     "execution_count": 28
    }
   ],
   "source": [
    "del d_test; gc.collect()"
   ]
  },
  {
   "cell_type": "code",
   "execution_count": 29,
   "metadata": {},
   "outputs": [],
   "source": [
    "sub = pd.read_csv('../Data/01_raw/sample_submission.csv')\n",
    "for c in sub.columns[sub.columns != 'ParcelId']:\n",
    "    sub[c] = p_test"
   ]
  },
  {
   "cell_type": "code",
   "execution_count": 30,
   "metadata": {},
   "outputs": [
    {
     "output_type": "execute_result",
     "data": {
      "text/plain": [
       "          ParcelId    201610    201611    201612    201710    201711    201712\n",
       "0         10754147 -0.278622 -0.278622 -0.278622 -0.278622 -0.278622 -0.278622\n",
       "1         10759547 -0.278622 -0.278622 -0.278622 -0.278622 -0.278622 -0.278622\n",
       "2         10843547  0.084676  0.084676  0.084676  0.084676  0.084676  0.084676\n",
       "3         10859147 -0.156125 -0.156125 -0.156125 -0.156125 -0.156125 -0.156125\n",
       "4         10879947 -0.069495 -0.069495 -0.069495 -0.069495 -0.069495 -0.069495\n",
       "...            ...       ...       ...       ...       ...       ...       ...\n",
       "2985212  168176230  1.103344  1.103344  1.103344  1.103344  1.103344  1.103344\n",
       "2985213   14273630  1.103344  1.103344  1.103344  1.103344  1.103344  1.103344\n",
       "2985214  168040630  1.103344  1.103344  1.103344  1.103344  1.103344  1.103344\n",
       "2985215  168040830  1.103344  1.103344  1.103344  1.103344  1.103344  1.103344\n",
       "2985216  168040430  1.103344  1.103344  1.103344  1.103344  1.103344  1.103344\n",
       "\n",
       "[2985217 rows x 7 columns]"
      ],
      "text/html": "<div>\n<style scoped>\n    .dataframe tbody tr th:only-of-type {\n        vertical-align: middle;\n    }\n\n    .dataframe tbody tr th {\n        vertical-align: top;\n    }\n\n    .dataframe thead th {\n        text-align: right;\n    }\n</style>\n<table border=\"1\" class=\"dataframe\">\n  <thead>\n    <tr style=\"text-align: right;\">\n      <th></th>\n      <th>ParcelId</th>\n      <th>201610</th>\n      <th>201611</th>\n      <th>201612</th>\n      <th>201710</th>\n      <th>201711</th>\n      <th>201712</th>\n    </tr>\n  </thead>\n  <tbody>\n    <tr>\n      <th>0</th>\n      <td>10754147</td>\n      <td>-0.278622</td>\n      <td>-0.278622</td>\n      <td>-0.278622</td>\n      <td>-0.278622</td>\n      <td>-0.278622</td>\n      <td>-0.278622</td>\n    </tr>\n    <tr>\n      <th>1</th>\n      <td>10759547</td>\n      <td>-0.278622</td>\n      <td>-0.278622</td>\n      <td>-0.278622</td>\n      <td>-0.278622</td>\n      <td>-0.278622</td>\n      <td>-0.278622</td>\n    </tr>\n    <tr>\n      <th>2</th>\n      <td>10843547</td>\n      <td>0.084676</td>\n      <td>0.084676</td>\n      <td>0.084676</td>\n      <td>0.084676</td>\n      <td>0.084676</td>\n      <td>0.084676</td>\n    </tr>\n    <tr>\n      <th>3</th>\n      <td>10859147</td>\n      <td>-0.156125</td>\n      <td>-0.156125</td>\n      <td>-0.156125</td>\n      <td>-0.156125</td>\n      <td>-0.156125</td>\n      <td>-0.156125</td>\n    </tr>\n    <tr>\n      <th>4</th>\n      <td>10879947</td>\n      <td>-0.069495</td>\n      <td>-0.069495</td>\n      <td>-0.069495</td>\n      <td>-0.069495</td>\n      <td>-0.069495</td>\n      <td>-0.069495</td>\n    </tr>\n    <tr>\n      <th>...</th>\n      <td>...</td>\n      <td>...</td>\n      <td>...</td>\n      <td>...</td>\n      <td>...</td>\n      <td>...</td>\n      <td>...</td>\n    </tr>\n    <tr>\n      <th>2985212</th>\n      <td>168176230</td>\n      <td>1.103344</td>\n      <td>1.103344</td>\n      <td>1.103344</td>\n      <td>1.103344</td>\n      <td>1.103344</td>\n      <td>1.103344</td>\n    </tr>\n    <tr>\n      <th>2985213</th>\n      <td>14273630</td>\n      <td>1.103344</td>\n      <td>1.103344</td>\n      <td>1.103344</td>\n      <td>1.103344</td>\n      <td>1.103344</td>\n      <td>1.103344</td>\n    </tr>\n    <tr>\n      <th>2985214</th>\n      <td>168040630</td>\n      <td>1.103344</td>\n      <td>1.103344</td>\n      <td>1.103344</td>\n      <td>1.103344</td>\n      <td>1.103344</td>\n      <td>1.103344</td>\n    </tr>\n    <tr>\n      <th>2985215</th>\n      <td>168040830</td>\n      <td>1.103344</td>\n      <td>1.103344</td>\n      <td>1.103344</td>\n      <td>1.103344</td>\n      <td>1.103344</td>\n      <td>1.103344</td>\n    </tr>\n    <tr>\n      <th>2985216</th>\n      <td>168040430</td>\n      <td>1.103344</td>\n      <td>1.103344</td>\n      <td>1.103344</td>\n      <td>1.103344</td>\n      <td>1.103344</td>\n      <td>1.103344</td>\n    </tr>\n  </tbody>\n</table>\n<p>2985217 rows × 7 columns</p>\n</div>"
     },
     "metadata": {},
     "execution_count": 30
    }
   ],
   "source": [
    "sub"
   ]
  },
  {
   "cell_type": "code",
   "execution_count": 31,
   "metadata": {},
   "outputs": [
    {
     "output_type": "stream",
     "name": "stdout",
     "text": [
      "Writing csv ...\n"
     ]
    }
   ],
   "source": [
    "print('Writing csv ...')\n",
    "sub.to_csv('xgb_starter.csv', index=False, float_format='%.4f')"
   ]
  }
 ]
}