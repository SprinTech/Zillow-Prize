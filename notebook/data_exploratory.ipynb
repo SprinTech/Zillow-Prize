{
 "metadata": {
  "language_info": {
   "codemirror_mode": {
    "name": "ipython",
    "version": 3
   },
   "file_extension": ".py",
   "mimetype": "text/x-python",
   "name": "python",
   "nbconvert_exporter": "python",
   "pygments_lexer": "ipython3",
   "version": "3.9.2-final"
  },
  "orig_nbformat": 2,
  "kernelspec": {
   "name": "python392jvsc74a57bd06d64218068ccb9888e0da9b020392d2ac4458919511f25dbffda3cab801a80d3",
   "display_name": "Python 3.9.2 64-bit ('py36': conda)"
  },
  "metadata": {
   "interpreter": {
    "hash": "6d64218068ccb9888e0da9b020392d2ac4458919511f25dbffda3cab801a80d3"
   }
  }
 },
 "nbformat": 4,
 "nbformat_minor": 2,
 "cells": [
  {
   "cell_type": "code",
   "execution_count": 2,
   "metadata": {},
   "outputs": [],
   "source": [
    "import pandas as pd\n",
    "import numpy as np\n",
    "import seaborn as sns\n",
    "import matplotlib.pyplot as plt\n",
    "\n",
    "df = pd.read_csv('../Data/01_raw/final_raw_data.csv', low_memory=False).sample(10000)"
   ]
  },
  {
   "cell_type": "code",
   "execution_count": null,
   "metadata": {},
   "outputs": [],
   "source": [
    "columns = []"
   ]
  }
 ]
}